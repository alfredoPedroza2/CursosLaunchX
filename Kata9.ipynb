{
 "cells": [
  {
   "cell_type": "markdown",
   "metadata": {},
   "source": [
    "Ejercicio1: Trabajar argumentos"
   ]
  },
  {
   "cell_type": "code",
   "execution_count": 10,
   "metadata": {},
   "outputs": [
    {
     "name": "stdout",
     "output_type": "stream",
     "text": [
      "20.0\n"
     ]
    }
   ],
   "source": [
    "def promedio(values):\n",
    "    total = sum(values)\n",
    "    numeroTanques = len(values)\n",
    "    return total / numeroTanques\n",
    "    \n",
    "def convultibles (tanque1, tanque2, tanque3):\n",
    "    return promedio([tanque1,tanque2,tanque3])\n",
    "\n",
    "\n",
    "\n",
    "print(convultibles(10,20,30))\n"
   ]
  },
  {
   "cell_type": "markdown",
   "metadata": {},
   "source": [
    "Ejercicio2: Trabajo con argumentos con palabra clave"
   ]
  },
  {
   "cell_type": "code",
   "execution_count": 11,
   "metadata": {},
   "outputs": [
    {
     "name": "stdout",
     "output_type": "stream",
     "text": [
      "Destino es  Harizona\n",
      "Tiempo de vuelo:  20\n",
      "Conbustible total:  40\n",
      "None\n"
     ]
    }
   ],
   "source": [
    "def reporteMision(prelanzamiento, vuelo, destino,taqueExterno,tanqueInterno):\n",
    "    print(\"Destino es \" , destino)\n",
    "    print(\"Tiempo de vuelo: \", prelanzamiento + vuelo)\n",
    "    print(\"Conbustible total: \", tanqueInterno + tanqueInterno)\n",
    "\n",
    "def reporteMision(destino,*minutos,**reserva):\n",
    "    print(\"Destino es \" , destino)\n",
    "    print(\"Tiempo de vuelo: \", sum(minutos))\n",
    "    print(\"Conbustible total: \", sum(reserva.values))\n",
    "\n"
   ]
  }
 ],
 "metadata": {
  "interpreter": {
   "hash": "99fa6739f53de09682ab3a354423c8ac6e72e884fce8bce5751aacfcce3b1bc0"
  },
  "kernelspec": {
   "display_name": "Python 3.10.2 64-bit",
   "language": "python",
   "name": "python3"
  },
  "language_info": {
   "codemirror_mode": {
    "name": "ipython",
    "version": 3
   },
   "file_extension": ".py",
   "mimetype": "text/x-python",
   "name": "python",
   "nbconvert_exporter": "python",
   "pygments_lexer": "ipython3",
   "version": "3.10.2"
  },
  "orig_nbformat": 4
 },
 "nbformat": 4,
 "nbformat_minor": 2
}
