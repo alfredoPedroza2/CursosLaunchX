{
 "cells": [
  {
   "cell_type": "markdown",
   "metadata": {},
   "source": [
    "Ejercicio 1 \n",
    "Utilizar operadores aritmericos"
   ]
  },
  {
   "cell_type": "code",
   "execution_count": 3,
   "metadata": {},
   "outputs": [
    {
     "name": "stdout",
     "output_type": "stream",
     "text": [
      "La distancia de diferencia es: 628949330\n",
      "La distancia en millas es: 390577533.93\n"
     ]
    }
   ],
   "source": [
    "distancoia_tierra = 149597870\n",
    "dutancia_jupiter = 778547200\n",
    "\n",
    "distancia = distancoia_tierra -dutancia_jupiter\n",
    "\n",
    "print(\"La distancia de diferencia es: \" + str((abs(distancia))))\n",
    "distancia_millas = abs(distancia) * 0.621\n",
    "print(\"La distancia en millas es: \" + str((abs(distancia_millas))))"
   ]
  },
  {
   "cell_type": "markdown",
   "metadata": {},
   "source": [
    "Ejercicio 2 combierte adena en numeros y valores absolutos"
   ]
  },
  {
   "cell_type": "code",
   "execution_count": 4,
   "metadata": {},
   "outputs": [
    {
     "name": "stdout",
     "output_type": "stream",
     "text": [
      "La distancia de diferencia es: 10\n",
      "La distancia en millas es: 6.21\n"
     ]
    }
   ],
   "source": [
    "planeta1 = input(\"Ingresa la distancia del paneta1: \")\n",
    "planeta2 = input(\"Ingresa la distancia de planeta2: \") \n",
    "\n",
    "distancia_planeta1 = int(planeta1)\n",
    "distancia_planeta2 = int(planeta2)\n",
    "\n",
    "distancia = distancia_planeta1 - distancia_planeta2\n",
    "\n",
    "print(\"La distancia de diferencia es: \" + str((abs(distancia))))\n",
    "distancia_millas = abs(distancia) * 0.621\n",
    "print(\"La distancia en millas es: \" + str((abs(distancia_millas))))"
   ]
  }
 ],
 "metadata": {
  "interpreter": {
   "hash": "99fa6739f53de09682ab3a354423c8ac6e72e884fce8bce5751aacfcce3b1bc0"
  },
  "kernelspec": {
   "display_name": "Python 3.10.2 64-bit",
   "language": "python",
   "name": "python3"
  },
  "language_info": {
   "codemirror_mode": {
    "name": "ipython",
    "version": 3
   },
   "file_extension": ".py",
   "mimetype": "text/x-python",
   "name": "python",
   "nbconvert_exporter": "python",
   "pygments_lexer": "ipython3",
   "version": "3.10.2"
  },
  "orig_nbformat": 4
 },
 "nbformat": 4,
 "nbformat_minor": 2
}
