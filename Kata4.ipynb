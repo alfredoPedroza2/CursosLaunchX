{
 "cells": [
  {
   "cell_type": "markdown",
   "metadata": {},
   "source": [
    "Kata4"
   ]
  },
  {
   "cell_type": "code",
   "execution_count": 2,
   "metadata": {},
   "outputs": [
    {
     "ename": "AttributeError",
     "evalue": "'str' object has no attribute 'splint'",
     "output_type": "error",
     "traceback": [
      "\u001b[1;31m---------------------------------------------------------------------------\u001b[0m",
      "\u001b[1;31mAttributeError\u001b[0m                            Traceback (most recent call last)",
      "\u001b[1;32mc:\\Users\\mayaa\\Documents\\Python\\Kata4.ipynb Cell 2'\u001b[0m in \u001b[0;36m<module>\u001b[1;34m\u001b[0m\n\u001b[0;32m      <a href='vscode-notebook-cell:/c%3A/Users/mayaa/Documents/Python/Kata4.ipynb#ch0000003?line=0'>1</a>\u001b[0m texto \u001b[39m=\u001b[39m \u001b[39m\"\"\"\u001b[39m\u001b[39mInteresting facts about the Moon. The Moon is Earth\u001b[39m\u001b[39m'\u001b[39m\u001b[39ms only satellite. There are several interesting facts about the Moon and how it affects life here on Earth. \u001b[39m\n\u001b[0;32m      <a href='vscode-notebook-cell:/c%3A/Users/mayaa/Documents/Python/Kata4.ipynb#ch0000003?line=1'>2</a>\u001b[0m \u001b[39mOn average, the Moon moves 4cm away from the Earth every year. This yearly drift is not significant enough to cause immediate effects on Earth. The highest daylight\u001b[39m\u001b[39m\"\"\"\u001b[39m\n\u001b[1;32m----> <a href='vscode-notebook-cell:/c%3A/Users/mayaa/Documents/Python/Kata4.ipynb#ch0000003?line=3'>4</a>\u001b[0m separar \u001b[39m=\u001b[39m texto\u001b[39m.\u001b[39;49msplint(\u001b[39m\"\u001b[39m\u001b[39m. \u001b[39m\u001b[39m\"\u001b[39m)\n\u001b[0;32m      <a href='vscode-notebook-cell:/c%3A/Users/mayaa/Documents/Python/Kata4.ipynb#ch0000003?line=5'>6</a>\u001b[0m palabras_Clave \u001b[39m=\u001b[39m [\u001b[39m\"\u001b[39m\u001b[39maverage\u001b[39m\u001b[39m\"\u001b[39m, \u001b[39m\"\u001b[39m\u001b[39mtemperature\u001b[39m\u001b[39m\"\u001b[39m, \u001b[39m\"\u001b[39m\u001b[39mdistance\u001b[39m\u001b[39m\"\u001b[39m]\n\u001b[0;32m      <a href='vscode-notebook-cell:/c%3A/Users/mayaa/Documents/Python/Kata4.ipynb#ch0000003?line=7'>8</a>\u001b[0m \u001b[39mfor\u001b[39;00m sentence \u001b[39min\u001b[39;00m separar:\n",
      "\u001b[1;31mAttributeError\u001b[0m: 'str' object has no attribute 'splint'"
     ]
    }
   ],
   "source": [
    "texto = \"\"\"Interesting facts about the Moon. The Moon is Earth's only satellite. There are several interesting facts about the Moon and how it affects life here on Earth. \n",
    "On average, the Moon moves 4cm away from the Earth every year. This yearly drift is not significant enough to cause immediate effects on Earth. The highest daylight\"\"\"\n",
    "\n",
    "separar = texto.splint(\". \")\n",
    "\n",
    "palabras_Clave = [\"average\", \"temperature\", \"distance\"]\n",
    "\n",
    "for sentence in separar:\n",
    "    for palabras_Clave in palabras_Clave:\n",
    "        if palabras_Clave in sentence:\n",
    "            print(sentence)\n",
    "            break\n",
    "\n",
    "for sentence in separar:\n",
    "    for palabras_Clave in palabras_Clave:\n",
    "        if palabras_Clave in sentence:\n",
    "            print(sentence.replace(' C', ' Celsius'))\n",
    "            break\n"
   ]
  }
 ],
 "metadata": {
  "interpreter": {
   "hash": "99fa6739f53de09682ab3a354423c8ac6e72e884fce8bce5751aacfcce3b1bc0"
  },
  "kernelspec": {
   "display_name": "Python 3.10.2 64-bit",
   "language": "python",
   "name": "python3"
  },
  "language_info": {
   "codemirror_mode": {
    "name": "ipython",
    "version": 3
   },
   "file_extension": ".py",
   "mimetype": "text/x-python",
   "name": "python",
   "nbconvert_exporter": "python",
   "pygments_lexer": "ipython3",
   "version": "3.10.2"
  },
  "orig_nbformat": 4
 },
 "nbformat": 4,
 "nbformat_minor": 2
}
