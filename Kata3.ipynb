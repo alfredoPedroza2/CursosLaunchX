{
 "cells": [
  {
   "cell_type": "markdown",
   "metadata": {},
   "source": [
    "Ejercicio if/else 1"
   ]
  },
  {
   "cell_type": "code",
   "execution_count": 6,
   "metadata": {},
   "outputs": [
    {
     "name": "stdout",
     "output_type": "stream",
     "text": [
      "Peligro se acerca un asteroide a velocidad de: 49\n"
     ]
    }
   ],
   "source": [
    "velocidad_Asteroide = 49\n",
    "velocidad_Advertencia = 25\n",
    "\n",
    "if velocidad_Asteroide > velocidad_Advertencia:\n",
    "    print(\"Peligro se acerca un asteroide a velocidad de: \" + str(velocidad_Asteroide))\n",
    "else:\n",
    "    print('Todo fluye normal')"
   ]
  },
  {
   "cell_type": "markdown",
   "metadata": {},
   "source": [
    "Ejercicio if/else/elif 2"
   ]
  },
  {
   "cell_type": "code",
   "execution_count": 7,
   "metadata": {},
   "outputs": [
    {
     "name": "stdout",
     "output_type": "stream",
     "text": [
      "Buscar un asteroide de velocidad de: 19\n"
     ]
    }
   ],
   "source": [
    "velocidad_Asteroide = 19\n",
    "velocidad_Advertencia = 20\n",
    "\n",
    "if velocidad_Advertencia>=velocidad_Advertencia:\n",
    "    print(\"Buscar un asteroide de velocidad de: \" + str(velocidad_Asteroide))\n",
    "else:\n",
    "    print(\"Todo fluye correcto\")"
   ]
  },
  {
   "cell_type": "markdown",
   "metadata": {},
   "source": [
    "Ejercicio and/or"
   ]
  },
  {
   "cell_type": "code",
   "execution_count": 12,
   "metadata": {},
   "outputs": [
    {
     "name": "stdout",
     "output_type": "stream",
     "text": [
      "Peligro un asteroide de: 40\n",
      "Se acerca a una velocidad de: 20\n"
     ]
    }
   ],
   "source": [
    "velocidad_asteroide = 25\n",
    "tamaño_asteroide = 40\n",
    "\n",
    "if velocidad_asteroide >= 25 and tamaño_asteroide > 25:\n",
    "    print(\"Peligro un asteroide de: \" +str(tamaño_asteroide))\n",
    "    print(\"Se acerca a una velocidad de: \" + str(velocidad_Advertencia))\n",
    "elif velocidad_asteroide >= 20:\n",
    "    \"Buscar un asteroide de velocidad de: \" + str(velocidad_Asteroide)\n",
    "elif tamano_asteroide < 25:\n",
    "    print(\"Todo fluye correcto\")\n",
    "else:\n",
    "    print(\"Todo fluye correcto\")\n",
    " "
   ]
  }
 ],
 "metadata": {
  "interpreter": {
   "hash": "99fa6739f53de09682ab3a354423c8ac6e72e884fce8bce5751aacfcce3b1bc0"
  },
  "kernelspec": {
   "display_name": "Python 3.10.2 64-bit",
   "language": "python",
   "name": "python3"
  },
  "language_info": {
   "codemirror_mode": {
    "name": "ipython",
    "version": 3
   },
   "file_extension": ".py",
   "mimetype": "text/x-python",
   "name": "python",
   "nbconvert_exporter": "python",
   "pygments_lexer": "ipython3",
   "version": "3.10.2"
  },
  "orig_nbformat": 4
 },
 "nbformat": 4,
 "nbformat_minor": 2
}
