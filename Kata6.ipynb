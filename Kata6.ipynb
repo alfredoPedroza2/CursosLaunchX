{
 "cells": [
  {
   "cell_type": "markdown",
   "metadata": {},
   "source": [
    "Ejercicio 1: Crear y usar una lista en python\n"
   ]
  },
  {
   "cell_type": "code",
   "execution_count": 2,
   "metadata": {},
   "outputs": [
    {
     "name": "stdout",
     "output_type": "stream",
     "text": [
      "Los planetas del sistemas solar son:  ['Mercuri', 'Venus', 'Tierra', 'Marte', 'Jupites', 'Saturno', 'Urano', 'Neptuno', 'Pluton']\n"
     ]
    }
   ],
   "source": [
    "planets = [\"Mercuri\" , \"Venus\", \"Tierra\" , \"Marte\", \"Jupites\", \"Saturno\", \"Urano\", \"Neptuno\"]\n",
    "planets.append(\"Pluton\")\n",
    "print(\"Los planetas del sistemas solar son: \", planets)"
   ]
  },
  {
   "cell_type": "markdown",
   "metadata": {},
   "source": [
    "Ejericio 2: Trabajando con datos de una lista"
   ]
  },
  {
   "cell_type": "code",
   "execution_count": 7,
   "metadata": {},
   "outputs": [
    {
     "name": "stdout",
     "output_type": "stream",
     "text": [
      "Planeta ubicado en la posicion:  3\n",
      "Los planetas mas ceranos son:  ['Marte', 'Jupites', 'Saturno', 'Urano', 'Neptuno', 'Pluton']\n"
     ]
    }
   ],
   "source": [
    "planetas = [\"Mercuri\" , \"Venus\", \"Tierra\" , \"Marte\", \"Jupites\", \"Saturno\", \"Urano\", \"Neptuno\", \"Pluton\"]\n",
    "solicitud = input(\"Ingresa el nombre de un planeta: \")\n",
    "encontrar = planets.index(solicitud)\n",
    "print(\"Planeta ubicado en la posicion: \", encontrar+1)\n",
    "planetas2 = planetas [encontrar+1:]\n",
    "print(\"Los planetas mas ceranos son: \", planetas2)"
   ]
  }
 ],
 "metadata": {
  "interpreter": {
   "hash": "99fa6739f53de09682ab3a354423c8ac6e72e884fce8bce5751aacfcce3b1bc0"
  },
  "kernelspec": {
   "display_name": "Python 3.10.2 64-bit",
   "language": "python",
   "name": "python3"
  },
  "language_info": {
   "codemirror_mode": {
    "name": "ipython",
    "version": 3
   },
   "file_extension": ".py",
   "mimetype": "text/x-python",
   "name": "python",
   "nbconvert_exporter": "python",
   "pygments_lexer": "ipython3",
   "version": "3.10.2"
  },
  "orig_nbformat": 4
 },
 "nbformat": 4,
 "nbformat_minor": 2
}
